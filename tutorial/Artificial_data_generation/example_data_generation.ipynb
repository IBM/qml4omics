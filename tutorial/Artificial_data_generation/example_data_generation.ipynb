{
 "cells": [
  {
   "cell_type": "code",
   "execution_count": 1,
   "id": "c49f4c99",
   "metadata": {},
   "outputs": [
    {
     "name": "stderr",
     "output_type": "stream",
     "text": [
      "/opt/homebrew/anaconda3/envs/qml/lib/python3.11/site-packages/tqdm/auto.py:21: TqdmWarning: IProgress not found. Please update jupyter and ipywidgets. See https://ipywidgets.readthedocs.io/en/stable/user_install.html\n",
      "  from .autonotebook import tqdm as notebook_tqdm\n"
     ]
    }
   ],
   "source": [
    "%load_ext autoreload\n",
    "%autoreload 2  \n",
    "\n",
    "import sys, os, re\n",
    "\n",
    "dir_home = re.sub( 'QBioCode.*', 'QBioCode', os.getcwd() )\n",
    "\n",
    "sys.path.append( dir_home )\n",
    "\n",
    "import qbiocode as qbc"
   ]
  },
  {
   "cell_type": "markdown",
   "id": "e776a0c7",
   "metadata": {},
   "source": [
    "### Examples of how to generate some artifical datasets"
   ]
  },
  {
   "cell_type": "code",
   "execution_count": 2,
   "id": "72d7019b",
   "metadata": {},
   "outputs": [
    {
     "name": "stdout",
     "output_type": "stream",
     "text": [
      "Generating swiss roll dataset...\n",
      "Dataset generation complete.\n"
     ]
    }
   ],
   "source": [
    "N_SAMPLES = list(range(100, 160, 20))\n",
    "NOISE = [0.1, 0.2, 0.3]\n",
    "HOLE = [True, False]\n",
    "\n",
    "type_of_data = 'swiss_roll'\n",
    "\n",
    "qbc.generate_data(\n",
    "    type_of_data=type_of_data,\n",
    "    save_path= os.path.join( 'data', type_of_data ),\n",
    "    n_samples=N_SAMPLES,\n",
    "    noise = NOISE,\n",
    "    hole = HOLE,\n",
    ")"
   ]
  },
  {
   "cell_type": "code",
   "execution_count": 3,
   "id": "5dce1e08",
   "metadata": {},
   "outputs": [
    {
     "name": "stdout",
     "output_type": "stream",
     "text": [
      "Generating circles dataset...\n",
      "Dataset generation complete.\n"
     ]
    }
   ],
   "source": [
    "N_SAMPLES = list(range(100, 160, 20))\n",
    "NOISE = [0.1, 0.2, 0.3]\n",
    "\n",
    "type_of_data = 'circles'\n",
    "\n",
    "qbc.generate_data(\n",
    "    type_of_data=type_of_data,\n",
    "    save_path= os.path.join( 'data', type_of_data ),\n",
    "    n_samples=N_SAMPLES,\n",
    "    noise = NOISE,\n",
    ")"
   ]
  },
  {
   "cell_type": "code",
   "execution_count": 4,
   "id": "78eebb94",
   "metadata": {},
   "outputs": [
    {
     "name": "stdout",
     "output_type": "stream",
     "text": [
      "Generating moons dataset...\n",
      "Dataset generation complete.\n"
     ]
    }
   ],
   "source": [
    "N_SAMPLES = list(range(100, 160, 20))\n",
    "NOISE = [0.1, 0.2, 0.3]\n",
    "\n",
    "type_of_data = 'moons'\n",
    "\n",
    "qbc.generate_data(\n",
    "    type_of_data=type_of_data,\n",
    "    save_path= os.path.join( 'data', type_of_data ),\n",
    "    n_samples=N_SAMPLES,\n",
    "    noise = NOISE,\n",
    ")"
   ]
  },
  {
   "cell_type": "code",
   "execution_count": 5,
   "id": "37cfb160",
   "metadata": {},
   "outputs": [
    {
     "name": "stdout",
     "output_type": "stream",
     "text": [
      "Generating classes dataset...\n",
      "Dataset generation complete.\n"
     ]
    }
   ],
   "source": [
    "\n",
    "N_SAMPLES = list(range(100, 160, 50))\n",
    "N_FEATURES = list(range(100,1000,100))\n",
    "N_INFORMATIVE = list(range(200,800,400))\n",
    "N_REDUNDANT = list(range(200,800,400))\n",
    "N_CLASSES = list(range(2, 4, 6))\n",
    "N_CLUSTERS_PER_CLASS = list(range(1, 2, 3))\n",
    "WEIGHTS = [[0.3, 0.7], [0.4, 0.6], [0.5, 0.5]]\n",
    "\n",
    "type_of_data = 'classes'\n",
    "\n",
    "qbc.generate_data(\n",
    "    type_of_data=type_of_data,\n",
    "    save_path= os.path.join( 'data', 'hd_data' ),\n",
    "    n_samples=N_SAMPLES,\n",
    "    n_features=N_FEATURES,\n",
    "    n_informative=N_INFORMATIVE,\n",
    "    n_redundant=N_REDUNDANT,\n",
    "    n_classes=N_CLASSES,\n",
    "    n_clusters_per_class=N_CLUSTERS_PER_CLASS,\n",
    "    weights=WEIGHTS,\n",
    ")"
   ]
  },
  {
   "cell_type": "code",
   "execution_count": null,
   "id": "4255278e",
   "metadata": {},
   "outputs": [
    {
     "name": "stdout",
     "output_type": "stream",
     "text": [
      "Generating classes dataset...\n",
      "Dataset generation complete.\n"
     ]
    }
   ],
   "source": [
    "\n",
    "N_SAMPLES = list(range(100, 160, 50))\n",
    "N_FEATURES = list(range(10, 40, 20))\n",
    "N_INFORMATIVE = list(range(2, 8, 4))\n",
    "N_REDUNDANT = list(range(2, 8, 4))\n",
    "N_CLASSES = list(range(2, 4, 6))\n",
    "N_CLUSTERS_PER_CLASS = list(range(1, 2, 3))\n",
    "WEIGHTS = [[0.3, 0.7], [0.4, 0.6], [0.5, 0.5]]\n",
    "\n",
    "type_of_data = 'classes'\n",
    "\n",
    "qbc.generate_data(\n",
    "    type_of_data=type_of_data,\n",
    "    save_path= os.path.join( 'data', 'ld_data' ),\n",
    "    n_samples=N_SAMPLES,\n",
    "    n_features=N_FEATURES,\n",
    "    n_informative=N_INFORMATIVE,\n",
    "    n_redundant=N_REDUNDANT,\n",
    "    n_classes=N_CLASSES,\n",
    "    n_clusters_per_class=N_CLUSTERS_PER_CLASS,\n",
    "    weights=WEIGHTS,\n",
    ")"
   ]
  },
  {
   "cell_type": "code",
   "execution_count": 7,
   "id": "96d722c0",
   "metadata": {},
   "outputs": [
    {
     "name": "stdout",
     "output_type": "stream",
     "text": [
      "Generating spheres dataset...\n",
      "Dataset generation complete.\n"
     ]
    }
   ],
   "source": [
    "N_SAMPLES = list(range(100, 160, 20))\n",
    "N_CLASSES = [2]\n",
    "NOISE = [0.3, 0.6]\n",
    "DIM = [3, 6, ]\n",
    "\n",
    "type_of_data = 'spheres'\n",
    "\n",
    "qbc.generate_data(\n",
    "    type_of_data=type_of_data,\n",
    "    save_path= os.path.join( 'data', type_of_data ),\n",
    "    n_samples=N_SAMPLES,\n",
    "    noise = NOISE,\n",
    "    n_classes=N_CLASSES,\n",
    "    dim=DIM,\n",
    ")"
   ]
  },
  {
   "cell_type": "code",
   "execution_count": 8,
   "id": "0f1c313a",
   "metadata": {},
   "outputs": [
    {
     "name": "stdout",
     "output_type": "stream",
     "text": [
      "Generating S Curve dataset...\n",
      "Dataset generation complete.\n"
     ]
    }
   ],
   "source": [
    "N_SAMPLES = list(range(100, 160, 20))\n",
    "NOISE = [0.1, 0.2, 0.3]\n",
    "\n",
    "type_of_data = 's_curve'\n",
    "\n",
    "qbc.generate_data(\n",
    "    type_of_data=type_of_data,\n",
    "    save_path= os.path.join( 'data', type_of_data ),\n",
    "    n_samples=N_SAMPLES,\n",
    "    noise = NOISE,\n",
    ")"
   ]
  },
  {
   "cell_type": "code",
   "execution_count": 9,
   "id": "6df3f1fc",
   "metadata": {},
   "outputs": [
    {
     "name": "stdout",
     "output_type": "stream",
     "text": [
      "Generating spirals dataset...\n",
      "Dataset generation complete.\n"
     ]
    }
   ],
   "source": [
    "N_SAMPLES = list(range(100, 160, 20))\n",
    "DIM = list(range(5, 15, 5))\n",
    "RAD = list(range(5, 20, 5))\n",
    "\n",
    "type_of_data = 'spirals'\n",
    "\n",
    "qbc.generate_data(\n",
    "    type_of_data=type_of_data,\n",
    "    save_path= os.path.join( 'data', type_of_data ),\n",
    "    n_samples=N_SAMPLES,\n",
    "    noise = NOISE,\n",
    ")"
   ]
  },
  {
   "cell_type": "code",
   "execution_count": null,
   "id": "2c6bd1b3",
   "metadata": {},
   "outputs": [],
   "source": []
  }
 ],
 "metadata": {
  "kernelspec": {
   "display_name": "qml",
   "language": "python",
   "name": "python3"
  },
  "language_info": {
   "codemirror_mode": {
    "name": "ipython",
    "version": 3
   },
   "file_extension": ".py",
   "mimetype": "text/x-python",
   "name": "python",
   "nbconvert_exporter": "python",
   "pygments_lexer": "ipython3",
   "version": "3.11.11"
  }
 },
 "nbformat": 4,
 "nbformat_minor": 5
}
